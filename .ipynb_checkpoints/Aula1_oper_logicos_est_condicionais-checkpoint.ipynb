{
 "cells": [
  {
   "cell_type": "markdown",
   "id": "80259503",
   "metadata": {},
   "source": [
    "# Operadores Lógicos e Relacionais\n",
    "___\n",
    "\n",
    "Os operadores relacionais são utilizados para testar condições utilizando variáveis. O retorno de uma condição sempre será avaliado com True (verdadeiro) ou False (falso). \n",
    "\n",
    "| Descrição         | Símbolo |\n",
    "|-------------------|---------|\n",
    "| Igual a           | ==       |\n",
    "| Diferente de      | <> ou # |\n",
    "| Maior que         | >       |\n",
    "| Menor que         | <       |\n",
    "| Maior ou igual a  | >=      |\n",
    "| Menor ou igual a  | <=      |\n",
    "\n",
    "\n",
    "Podemos utilizar operadores lógicos para criar condições mais complexas. Os operadores lógicos utilizados em python são os seguintes.\n",
    "\n",
    "| Operador Lógico | Operador em python |\n",
    "|-----------------|--------------------|\n",
    "| E               | and                |\n",
    "| OU              | or                 |\n",
    "| NÃO             | not                |"
   ]
  },
  {
   "cell_type": "code",
   "execution_count": 1,
   "id": "e6fc9c62",
   "metadata": {},
   "outputs": [
    {
     "data": {
      "text/plain": [
       "True"
      ]
     },
     "execution_count": 1,
     "metadata": {},
     "output_type": "execute_result"
    }
   ],
   "source": [
    "10 > 2"
   ]
  },
  {
   "cell_type": "code",
   "execution_count": 2,
   "id": "37afb4e0",
   "metadata": {},
   "outputs": [
    {
     "data": {
      "text/plain": [
       "False"
      ]
     },
     "execution_count": 2,
     "metadata": {},
     "output_type": "execute_result"
    }
   ],
   "source": [
    "5 > 5"
   ]
  },
  {
   "cell_type": "code",
   "execution_count": 3,
   "id": "e1fcdf48",
   "metadata": {},
   "outputs": [
    {
     "data": {
      "text/plain": [
       "True"
      ]
     },
     "execution_count": 3,
     "metadata": {},
     "output_type": "execute_result"
    }
   ],
   "source": [
    "5 >= 5"
   ]
  },
  {
   "cell_type": "code",
   "execution_count": 7,
   "id": "8f13d33b",
   "metadata": {},
   "outputs": [
    {
     "data": {
      "text/plain": [
       "True"
      ]
     },
     "execution_count": 7,
     "metadata": {},
     "output_type": "execute_result"
    }
   ],
   "source": [
    "a = 25\n",
    "b = 32\n",
    "\n",
    "a/2 > b**0.5"
   ]
  },
  {
   "cell_type": "code",
   "execution_count": 9,
   "id": "8067e70f",
   "metadata": {},
   "outputs": [
    {
     "data": {
      "text/plain": [
       "False"
      ]
     },
     "execution_count": 9,
     "metadata": {},
     "output_type": "execute_result"
    }
   ],
   "source": [
    "## multiplas condições\n",
    "\n",
    "(a/5 > 4) and (b > 50)"
   ]
  },
  {
   "cell_type": "markdown",
   "id": "0b0b98f0",
   "metadata": {},
   "source": [
    "Veja que a primeira parte da condição é avaliada como True (verdadeira) e a segunda parte é avaliada como False (falso). Utilizando o operador lógico ```and``` para unir as duas partes da condição acima chegamos no resultado False."
   ]
  },
  {
   "cell_type": "code",
   "execution_count": 10,
   "id": "b7897a26",
   "metadata": {},
   "outputs": [
    {
     "data": {
      "text/plain": [
       "True"
      ]
     },
     "execution_count": 10,
     "metadata": {},
     "output_type": "execute_result"
    }
   ],
   "source": [
    "## multiplas condições\n",
    "a = 10\n",
    "b = 5\n",
    "\n",
    "(a > 100) or (b == 5)"
   ]
  },
  {
   "cell_type": "markdown",
   "id": "77b3523b",
   "metadata": {},
   "source": [
    "# Estruturas condicionais\n",
    "___\n",
    "\n",
    "Tendo a capacidade de avaliar condições pode-se criar algoritmos mais dinâmicos e que tenham saídas dependentes das entradas. Utiliza-se estruturas condicionais para criar caminhos alternativos dentro de um algoritmo, esses caminhos alternativos podem (ou não) serem ativados de acordo com a condição avaliada.\n",
    "\n",
    "Imagine que, para passar de uma matéria na faculdade, é necessário uma nota final maior do que 5. Podemos montar um algoritmo para definir se um aluno passou ou não. O diagrama desse algoritmo ficaria da seguinte forma:\n",
    "\n",
    "![aluno](imgs/aluno_if.png)\n",
    "\n",
    "Existem duas saídas possíveis, para criar esse caminho alternativo utilizamos a sintaxe ```if ... else``` (se então, senão). Essa estrutura avalia a condição entregue e segue pelo caminho determinado pelo resultado da condição. Ou seja, ```se``` o aluno tiver uma média maior ou igual a 5 ele é aprovado senão ele é reprovado. Em python o algoritmo acima ficaria da seguinte forma:"
   ]
  },
  {
   "cell_type": "code",
   "execution_count": 11,
   "id": "04a5578c",
   "metadata": {},
   "outputs": [
    {
     "name": "stdout",
     "output_type": "stream",
     "text": [
      "Aluno Reprovado\n"
     ]
    }
   ],
   "source": [
    "media = 4.99\n",
    "\n",
    "if media >= 5.0:\n",
    "    print('Aluno Aprovado')\n",
    "else:\n",
    "    print('Aluno Reprovado')"
   ]
  },
  {
   "cell_type": "code",
   "execution_count": 12,
   "id": "e7e4ef7e",
   "metadata": {},
   "outputs": [
    {
     "name": "stdout",
     "output_type": "stream",
     "text": [
      "Aluno Aprovado\n"
     ]
    }
   ],
   "source": [
    "media = 9.5\n",
    "\n",
    "if media >= 5.0:\n",
    "    print('Aluno Aprovado')\n",
    "else:\n",
    "    print('Aluno Reprovado')"
   ]
  },
  {
   "cell_type": "code",
   "execution_count": null,
   "id": "50450cea",
   "metadata": {},
   "outputs": [],
   "source": []
  }
 ],
 "metadata": {
  "kernelspec": {
   "display_name": "Python 3",
   "language": "python",
   "name": "python3"
  },
  "language_info": {
   "codemirror_mode": {
    "name": "ipython",
    "version": 3
   },
   "file_extension": ".py",
   "mimetype": "text/x-python",
   "name": "python",
   "nbconvert_exporter": "python",
   "pygments_lexer": "ipython3",
   "version": "3.8.5"
  }
 },
 "nbformat": 4,
 "nbformat_minor": 5
}
