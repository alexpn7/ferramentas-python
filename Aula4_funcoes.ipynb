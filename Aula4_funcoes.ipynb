{
 "cells": [
  {
   "cell_type": "markdown",
   "id": "7246d518",
   "metadata": {},
   "source": [
    "<img src=\"imgs/mesttra.png\" alt=\"mesttra_logo\" style=\"width: 200px;\"/>\n",
    "\n",
    "# Funções\n",
    "___\n",
    "\n",
    "Uma função é um bloco de código que só é executado quando chamado. Cada função tem um identificador e assim que definido estará sempre associado ao bloco de código. O ato de definir uma função não executa o seu código. Para criar um função basta utilizarmos a palavra reservada ```def```.\n",
    "\n",
    "Um cientista de dados define várias funções ao longo do seu dia-a-dia de trabalho. Em sua maioria, as funções criadas executam uma atividade única que será utilizadas uma grande quantidade de vezes. Funções de avaliação de métricas, tratamento de dados, avaliação de modelos, são exemplos de funcionalidades normalmente utilizadas para funções personalizadas.\n"
   ]
  },
  {
   "cell_type": "code",
   "execution_count": 1,
   "id": "85039797",
   "metadata": {},
   "outputs": [],
   "source": [
    "def minha_primeira_funcao():\n",
    "    print('O início de um sonho!')\n",
    "    for _ in range(5):\n",
    "        print('.')\n",
    "    print('Deu tudo certo!')"
   ]
  },
  {
   "cell_type": "code",
   "execution_count": 2,
   "id": "989326fb",
   "metadata": {},
   "outputs": [
    {
     "name": "stdout",
     "output_type": "stream",
     "text": [
      "O início de um sonho!\n",
      ".\n",
      ".\n",
      ".\n",
      ".\n",
      ".\n",
      "Deu tudo certo!\n"
     ]
    }
   ],
   "source": [
    "minha_primeira_funcao()"
   ]
  },
  {
   "cell_type": "code",
   "execution_count": 3,
   "id": "d5f8f35a",
   "metadata": {},
   "outputs": [
    {
     "name": "stdout",
     "output_type": "stream",
     "text": [
      "Hello World!\n"
     ]
    }
   ],
   "source": [
    "def hello_world():\n",
    "    print('Hello World!')\n",
    "\n",
    "hello_world()"
   ]
  }
 ],
 "metadata": {
  "kernelspec": {
   "display_name": "Python 3",
   "language": "python",
   "name": "python3"
  },
  "language_info": {
   "codemirror_mode": {
    "name": "ipython",
    "version": 3
   },
   "file_extension": ".py",
   "mimetype": "text/x-python",
   "name": "python",
   "nbconvert_exporter": "python",
   "pygments_lexer": "ipython3",
   "version": "3.8.5"
  }
 },
 "nbformat": 4,
 "nbformat_minor": 5
}
